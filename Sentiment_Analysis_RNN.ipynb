{
 "cells": [
  {
   "cell_type": "markdown",
   "metadata": {},
   "source": [
    "##### Reading the data"
   ]
  },
  {
   "cell_type": "code",
   "execution_count": 1,
   "metadata": {},
   "outputs": [
    {
     "data": {
      "text/html": [
       "<div>\n",
       "<style scoped>\n",
       "    .dataframe tbody tr th:only-of-type {\n",
       "        vertical-align: middle;\n",
       "    }\n",
       "\n",
       "    .dataframe tbody tr th {\n",
       "        vertical-align: top;\n",
       "    }\n",
       "\n",
       "    .dataframe thead th {\n",
       "        text-align: right;\n",
       "    }\n",
       "</style>\n",
       "<table border=\"1\" class=\"dataframe\">\n",
       "  <thead>\n",
       "    <tr style=\"text-align: right;\">\n",
       "      <th></th>\n",
       "      <th>Unnamed: 0</th>\n",
       "      <th>ID1</th>\n",
       "      <th>Name</th>\n",
       "      <th>ID2</th>\n",
       "      <th>Topic</th>\n",
       "      <th>Review</th>\n",
       "      <th>Rating</th>\n",
       "      <th>Date</th>\n",
       "      <th>Sentiment</th>\n",
       "    </tr>\n",
       "  </thead>\n",
       "  <tbody>\n",
       "    <tr>\n",
       "      <th>0</th>\n",
       "      <td>0</td>\n",
       "      <td>Dz49XFTtSbUtN1cgfZ-9uA</td>\n",
       "      <td>Karen C.</td>\n",
       "      <td>OIdyZ4tieuG0YBbMVjDtcA</td>\n",
       "      <td>Yamo</td>\n",
       "      <td>This is the most awful place I've ever set foo...</td>\n",
       "      <td>1</td>\n",
       "      <td>31-07-2014</td>\n",
       "      <td>0</td>\n",
       "    </tr>\n",
       "    <tr>\n",
       "      <th>1</th>\n",
       "      <td>1</td>\n",
       "      <td>ARXQsXEfamGNn5OCpPosiQ</td>\n",
       "      <td>Mike L.</td>\n",
       "      <td>k9GG1gFhQAQSQAYydjUjSQ</td>\n",
       "      <td>Mikado Sushi</td>\n",
       "      <td>Did happy hour here today. Five stars for bein...</td>\n",
       "      <td>5</td>\n",
       "      <td>04-06-2017</td>\n",
       "      <td>1</td>\n",
       "    </tr>\n",
       "    <tr>\n",
       "      <th>2</th>\n",
       "      <td>2</td>\n",
       "      <td>Ho47TvoR9I-ZxwMAMliwZg</td>\n",
       "      <td>John V.</td>\n",
       "      <td>DEeJ2qcDGZGBS8KJsJGC8w</td>\n",
       "      <td>All Good Pizza</td>\n",
       "      <td>I love the pizzas &amp; sandwiches &amp; beer garden v...</td>\n",
       "      <td>5</td>\n",
       "      <td>03-09-2018</td>\n",
       "      <td>1</td>\n",
       "    </tr>\n",
       "    <tr>\n",
       "      <th>3</th>\n",
       "      <td>3</td>\n",
       "      <td>FI0dcCAuFmW0lutdKO2UwA</td>\n",
       "      <td>Kyle K.</td>\n",
       "      <td>ix9rWyVohyRoAtARuTNOaw</td>\n",
       "      <td>Columbus Cafe</td>\n",
       "      <td>Bartenders here have big tudes but otherwise i...</td>\n",
       "      <td>2</td>\n",
       "      <td>07-07-2009</td>\n",
       "      <td>0</td>\n",
       "    </tr>\n",
       "    <tr>\n",
       "      <th>4</th>\n",
       "      <td>4</td>\n",
       "      <td>Ejgl_zozeJCbTTJyuB1Azw</td>\n",
       "      <td>Nicholas H.</td>\n",
       "      <td>VCjSMI5G99_lPRzichTBhg</td>\n",
       "      <td>Sushi Hon</td>\n",
       "      <td>Came to Sushi Hon as a late Valentine's Day di...</td>\n",
       "      <td>3</td>\n",
       "      <td>21-02-2018</td>\n",
       "      <td>0</td>\n",
       "    </tr>\n",
       "  </tbody>\n",
       "</table>\n",
       "</div>"
      ],
      "text/plain": [
       "   Unnamed: 0                     ID1         Name                     ID2  \\\n",
       "0           0  Dz49XFTtSbUtN1cgfZ-9uA     Karen C.  OIdyZ4tieuG0YBbMVjDtcA   \n",
       "1           1  ARXQsXEfamGNn5OCpPosiQ      Mike L.  k9GG1gFhQAQSQAYydjUjSQ   \n",
       "2           2  Ho47TvoR9I-ZxwMAMliwZg      John V.  DEeJ2qcDGZGBS8KJsJGC8w   \n",
       "3           3  FI0dcCAuFmW0lutdKO2UwA      Kyle K.  ix9rWyVohyRoAtARuTNOaw   \n",
       "4           4  Ejgl_zozeJCbTTJyuB1Azw  Nicholas H.  VCjSMI5G99_lPRzichTBhg   \n",
       "\n",
       "            Topic                                             Review  Rating  \\\n",
       "0            Yamo  This is the most awful place I've ever set foo...       1   \n",
       "1    Mikado Sushi  Did happy hour here today. Five stars for bein...       5   \n",
       "2  All Good Pizza  I love the pizzas & sandwiches & beer garden v...       5   \n",
       "3   Columbus Cafe  Bartenders here have big tudes but otherwise i...       2   \n",
       "4       Sushi Hon  Came to Sushi Hon as a late Valentine's Day di...       3   \n",
       "\n",
       "         Date  Sentiment  \n",
       "0  31-07-2014          0  \n",
       "1  04-06-2017          1  \n",
       "2  03-09-2018          1  \n",
       "3  07-07-2009          0  \n",
       "4  21-02-2018          0  "
      ]
     },
     "execution_count": 1,
     "metadata": {},
     "output_type": "execute_result"
    }
   ],
   "source": [
    "import pandas as pd \n",
    "df=pd.read_csv(\"user_reviews2.csv\") \n",
    "df['Sentiment'] = [1 if x > 3 else 0 for x in df.Rating]\n",
    "df.head()"
   ]
  },
  {
   "cell_type": "markdown",
   "metadata": {},
   "source": [
    "##### For a classification problem:\n",
    "We should ensure that the training set contains nearly equal samples of all available classes"
   ]
  },
  {
   "cell_type": "code",
   "execution_count": 2,
   "metadata": {},
   "outputs": [
    {
     "data": {
      "text/plain": [
       "1    6016\n",
       "0    6016\n",
       "Name: Sentiment, dtype: int64"
      ]
     },
     "execution_count": 2,
     "metadata": {},
     "output_type": "execute_result"
    }
   ],
   "source": [
    "df['Sentiment'].value_counts()"
   ]
  },
  {
   "cell_type": "markdown",
   "metadata": {},
   "source": [
    "##### Cleaning the \"review\" Data\n",
    "\n",
    "Step 1: Remove all html tags that may be incurred due to formatting options from the source\n",
    "\n",
    "Step 2: Remove all redundant symbols like . , \" etc...\n",
    "\n",
    "Step 3: Convert to lowercase\n",
    "\n",
    "Step 4: Remove all stopwords like 'i', 'this', 'that' etc..."
   ]
  },
  {
   "cell_type": "code",
   "execution_count": 3,
   "metadata": {},
   "outputs": [
    {
     "data": {
      "text/html": [
       "<div>\n",
       "<style scoped>\n",
       "    .dataframe tbody tr th:only-of-type {\n",
       "        vertical-align: middle;\n",
       "    }\n",
       "\n",
       "    .dataframe tbody tr th {\n",
       "        vertical-align: top;\n",
       "    }\n",
       "\n",
       "    .dataframe thead th {\n",
       "        text-align: right;\n",
       "    }\n",
       "</style>\n",
       "<table border=\"1\" class=\"dataframe\">\n",
       "  <thead>\n",
       "    <tr style=\"text-align: right;\">\n",
       "      <th></th>\n",
       "      <th>Unnamed: 0</th>\n",
       "      <th>ID1</th>\n",
       "      <th>Name</th>\n",
       "      <th>ID2</th>\n",
       "      <th>Topic</th>\n",
       "      <th>Review</th>\n",
       "      <th>Rating</th>\n",
       "      <th>Date</th>\n",
       "      <th>Sentiment</th>\n",
       "    </tr>\n",
       "  </thead>\n",
       "  <tbody>\n",
       "    <tr>\n",
       "      <th>0</th>\n",
       "      <td>0</td>\n",
       "      <td>Dz49XFTtSbUtN1cgfZ-9uA</td>\n",
       "      <td>Karen C.</td>\n",
       "      <td>OIdyZ4tieuG0YBbMVjDtcA</td>\n",
       "      <td>Yamo</td>\n",
       "      <td>this is the most awful place ive ever set foot...</td>\n",
       "      <td>1</td>\n",
       "      <td>31-07-2014</td>\n",
       "      <td>0</td>\n",
       "    </tr>\n",
       "    <tr>\n",
       "      <th>1</th>\n",
       "      <td>1</td>\n",
       "      <td>ARXQsXEfamGNn5OCpPosiQ</td>\n",
       "      <td>Mike L.</td>\n",
       "      <td>k9GG1gFhQAQSQAYydjUjSQ</td>\n",
       "      <td>Mikado Sushi</td>\n",
       "      <td>did happy hour here today five stars for being...</td>\n",
       "      <td>5</td>\n",
       "      <td>04-06-2017</td>\n",
       "      <td>1</td>\n",
       "    </tr>\n",
       "    <tr>\n",
       "      <th>2</th>\n",
       "      <td>2</td>\n",
       "      <td>Ho47TvoR9I-ZxwMAMliwZg</td>\n",
       "      <td>John V.</td>\n",
       "      <td>DEeJ2qcDGZGBS8KJsJGC8w</td>\n",
       "      <td>All Good Pizza</td>\n",
       "      <td>i love the pizzas  sandwiches  beer garden vib...</td>\n",
       "      <td>5</td>\n",
       "      <td>03-09-2018</td>\n",
       "      <td>1</td>\n",
       "    </tr>\n",
       "    <tr>\n",
       "      <th>3</th>\n",
       "      <td>3</td>\n",
       "      <td>FI0dcCAuFmW0lutdKO2UwA</td>\n",
       "      <td>Kyle K.</td>\n",
       "      <td>ix9rWyVohyRoAtARuTNOaw</td>\n",
       "      <td>Columbus Cafe</td>\n",
       "      <td>bartenders here have big tudes but otherwise i...</td>\n",
       "      <td>2</td>\n",
       "      <td>07-07-2009</td>\n",
       "      <td>0</td>\n",
       "    </tr>\n",
       "    <tr>\n",
       "      <th>4</th>\n",
       "      <td>4</td>\n",
       "      <td>Ejgl_zozeJCbTTJyuB1Azw</td>\n",
       "      <td>Nicholas H.</td>\n",
       "      <td>VCjSMI5G99_lPRzichTBhg</td>\n",
       "      <td>Sushi Hon</td>\n",
       "      <td>came to sushi hon as a late valentines day din...</td>\n",
       "      <td>3</td>\n",
       "      <td>21-02-2018</td>\n",
       "      <td>0</td>\n",
       "    </tr>\n",
       "  </tbody>\n",
       "</table>\n",
       "</div>"
      ],
      "text/plain": [
       "   Unnamed: 0                     ID1         Name                     ID2  \\\n",
       "0           0  Dz49XFTtSbUtN1cgfZ-9uA     Karen C.  OIdyZ4tieuG0YBbMVjDtcA   \n",
       "1           1  ARXQsXEfamGNn5OCpPosiQ      Mike L.  k9GG1gFhQAQSQAYydjUjSQ   \n",
       "2           2  Ho47TvoR9I-ZxwMAMliwZg      John V.  DEeJ2qcDGZGBS8KJsJGC8w   \n",
       "3           3  FI0dcCAuFmW0lutdKO2UwA      Kyle K.  ix9rWyVohyRoAtARuTNOaw   \n",
       "4           4  Ejgl_zozeJCbTTJyuB1Azw  Nicholas H.  VCjSMI5G99_lPRzichTBhg   \n",
       "\n",
       "            Topic                                             Review  Rating  \\\n",
       "0            Yamo  this is the most awful place ive ever set foot...       1   \n",
       "1    Mikado Sushi  did happy hour here today five stars for being...       5   \n",
       "2  All Good Pizza  i love the pizzas  sandwiches  beer garden vib...       5   \n",
       "3   Columbus Cafe  bartenders here have big tudes but otherwise i...       2   \n",
       "4       Sushi Hon  came to sushi hon as a late valentines day din...       3   \n",
       "\n",
       "         Date  Sentiment  \n",
       "0  31-07-2014          0  \n",
       "1  04-06-2017          1  \n",
       "2  03-09-2018          1  \n",
       "3  07-07-2009          0  \n",
       "4  21-02-2018          0  "
      ]
     },
     "execution_count": 3,
     "metadata": {},
     "output_type": "execute_result"
    }
   ],
   "source": [
    "from bs4 import BeautifulSoup\n",
    "import re\n",
    "                  \n",
    "def utility(text):\n",
    "    text=BeautifulSoup(text,\"html.parser\").get_text()\n",
    "    text=re.sub('\\[[^]]*\\]', '',text)\n",
    "    pattern=r'[^a-zA-z0-9\\s]'\n",
    "    text=re.sub(pattern,'',text)\n",
    "    return text\n",
    "                  \n",
    "df['Review']=df['Review'].apply(utility)\n",
    "df['Review']=df['Review'].str.lower()\n",
    "df.head()"
   ]
  },
  {
   "cell_type": "code",
   "execution_count": 4,
   "metadata": {
    "scrolled": true
   },
   "outputs": [
    {
     "data": {
      "text/html": [
       "<div>\n",
       "<style scoped>\n",
       "    .dataframe tbody tr th:only-of-type {\n",
       "        vertical-align: middle;\n",
       "    }\n",
       "\n",
       "    .dataframe tbody tr th {\n",
       "        vertical-align: top;\n",
       "    }\n",
       "\n",
       "    .dataframe thead th {\n",
       "        text-align: right;\n",
       "    }\n",
       "</style>\n",
       "<table border=\"1\" class=\"dataframe\">\n",
       "  <thead>\n",
       "    <tr style=\"text-align: right;\">\n",
       "      <th></th>\n",
       "      <th>Unnamed: 0</th>\n",
       "      <th>ID1</th>\n",
       "      <th>Name</th>\n",
       "      <th>ID2</th>\n",
       "      <th>Topic</th>\n",
       "      <th>Review</th>\n",
       "      <th>Rating</th>\n",
       "      <th>Date</th>\n",
       "      <th>Sentiment</th>\n",
       "    </tr>\n",
       "  </thead>\n",
       "  <tbody>\n",
       "    <tr>\n",
       "      <th>0</th>\n",
       "      <td>0</td>\n",
       "      <td>Dz49XFTtSbUtN1cgfZ-9uA</td>\n",
       "      <td>Karen C.</td>\n",
       "      <td>OIdyZ4tieuG0YBbMVjDtcA</td>\n",
       "      <td>Yamo</td>\n",
       "      <td>awful place ive ever set foot still cannot und...</td>\n",
       "      <td>1</td>\n",
       "      <td>31-07-2014</td>\n",
       "      <td>0</td>\n",
       "    </tr>\n",
       "    <tr>\n",
       "      <th>1</th>\n",
       "      <td>1</td>\n",
       "      <td>ARXQsXEfamGNn5OCpPosiQ</td>\n",
       "      <td>Mike L.</td>\n",
       "      <td>k9GG1gFhQAQSQAYydjUjSQ</td>\n",
       "      <td>Mikado Sushi</td>\n",
       "      <td>happy hour today five stars one best values city</td>\n",
       "      <td>5</td>\n",
       "      <td>04-06-2017</td>\n",
       "      <td>1</td>\n",
       "    </tr>\n",
       "    <tr>\n",
       "      <th>2</th>\n",
       "      <td>2</td>\n",
       "      <td>Ho47TvoR9I-ZxwMAMliwZg</td>\n",
       "      <td>John V.</td>\n",
       "      <td>DEeJ2qcDGZGBS8KJsJGC8w</td>\n",
       "      <td>All Good Pizza</td>\n",
       "      <td>love pizzas sandwiches beer garden vibe really...</td>\n",
       "      <td>5</td>\n",
       "      <td>03-09-2018</td>\n",
       "      <td>1</td>\n",
       "    </tr>\n",
       "    <tr>\n",
       "      <th>3</th>\n",
       "      <td>3</td>\n",
       "      <td>FI0dcCAuFmW0lutdKO2UwA</td>\n",
       "      <td>Kyle K.</td>\n",
       "      <td>ix9rWyVohyRoAtARuTNOaw</td>\n",
       "      <td>Columbus Cafe</td>\n",
       "      <td>bartenders big tudes otherwise ok place cool l...</td>\n",
       "      <td>2</td>\n",
       "      <td>07-07-2009</td>\n",
       "      <td>0</td>\n",
       "    </tr>\n",
       "    <tr>\n",
       "      <th>4</th>\n",
       "      <td>4</td>\n",
       "      <td>Ejgl_zozeJCbTTJyuB1Azw</td>\n",
       "      <td>Nicholas H.</td>\n",
       "      <td>VCjSMI5G99_lPRzichTBhg</td>\n",
       "      <td>Sushi Hon</td>\n",
       "      <td>came sushi hon late valentines day dinner sush...</td>\n",
       "      <td>3</td>\n",
       "      <td>21-02-2018</td>\n",
       "      <td>0</td>\n",
       "    </tr>\n",
       "  </tbody>\n",
       "</table>\n",
       "</div>"
      ],
      "text/plain": [
       "   Unnamed: 0                     ID1         Name                     ID2  \\\n",
       "0           0  Dz49XFTtSbUtN1cgfZ-9uA     Karen C.  OIdyZ4tieuG0YBbMVjDtcA   \n",
       "1           1  ARXQsXEfamGNn5OCpPosiQ      Mike L.  k9GG1gFhQAQSQAYydjUjSQ   \n",
       "2           2  Ho47TvoR9I-ZxwMAMliwZg      John V.  DEeJ2qcDGZGBS8KJsJGC8w   \n",
       "3           3  FI0dcCAuFmW0lutdKO2UwA      Kyle K.  ix9rWyVohyRoAtARuTNOaw   \n",
       "4           4  Ejgl_zozeJCbTTJyuB1Azw  Nicholas H.  VCjSMI5G99_lPRzichTBhg   \n",
       "\n",
       "            Topic                                             Review  Rating  \\\n",
       "0            Yamo  awful place ive ever set foot still cannot und...       1   \n",
       "1    Mikado Sushi   happy hour today five stars one best values city       5   \n",
       "2  All Good Pizza  love pizzas sandwiches beer garden vibe really...       5   \n",
       "3   Columbus Cafe  bartenders big tudes otherwise ok place cool l...       2   \n",
       "4       Sushi Hon  came sushi hon late valentines day dinner sush...       3   \n",
       "\n",
       "         Date  Sentiment  \n",
       "0  31-07-2014          0  \n",
       "1  04-06-2017          1  \n",
       "2  03-09-2018          1  \n",
       "3  07-07-2009          0  \n",
       "4  21-02-2018          0  "
      ]
     },
     "execution_count": 4,
     "metadata": {},
     "output_type": "execute_result"
    }
   ],
   "source": [
    "from nltk.corpus import stopwords\n",
    "stop = stopwords.words('english')\n",
    "\n",
    "df['Review']=df['Review'].apply(lambda x: ' '.join([word for word in x.split() if word not in (stop)]))\n",
    "df.head()"
   ]
  },
  {
   "cell_type": "markdown",
   "metadata": {},
   "source": [
    "##### Data cleaned - now to encode it for training\n",
    "\n",
    "Step 1: Tokenize (separate each word as a token in each review)\n",
    "\n",
    "Step 2: Map the tokens to a sequence. Therefore, each unique word will have a number assigned to it, irrespective of the review it is present in\n",
    "\n",
    "Step 3: Check the average length(=k) of the reviews.\n",
    "\n",
    "Step 4: Make all the sequence-encoded-token-lists of the same length (=k). Those that are longer will be truncated and those that are shorted will be padded with '0's.\n",
    "\n",
    "Note: '0' is a reserved token."
   ]
  },
  {
   "cell_type": "code",
   "execution_count": 5,
   "metadata": {},
   "outputs": [
    {
     "name": "stderr",
     "output_type": "stream",
     "text": [
      "Using TensorFlow backend.\n"
     ]
    },
    {
     "name": "stdout",
     "output_type": "stream",
     "text": [
      "Average length of a review is : 58.196309840425535\n",
      "Maximum length of a review is : 540\n"
     ]
    }
   ],
   "source": [
    "X, Y = (df['Review'], df['Sentiment'])\n",
    "\n",
    "from keras.preprocessing.text import Tokenizer\n",
    "from keras.preprocessing.sequence import pad_sequences\n",
    "tk = Tokenizer(lower = True)\n",
    "tk.fit_on_texts(X)\n",
    "\n",
    "X_seq = tk.texts_to_sequences(X) \n",
    "temp=[len(i) for i in X_seq]\n",
    "print(\"Average length of a review is : \"+str(sum(temp)/len(temp)))\n",
    "print(\"Maximum length of a review is : \"+str(max(temp)))"
   ]
  },
  {
   "cell_type": "code",
   "execution_count": 6,
   "metadata": {},
   "outputs": [],
   "source": [
    "chosen_len=60\n",
    "X_pad = pad_sequences(X_seq, maxlen=chosen_len, padding='post')"
   ]
  },
  {
   "cell_type": "markdown",
   "metadata": {},
   "source": [
    "##### Now - the training data is fully prepared.\n",
    "\n",
    "It is time to split into training and testing samples and train our model and test it."
   ]
  },
  {
   "cell_type": "code",
   "execution_count": null,
   "metadata": {},
   "outputs": [],
   "source": [
    "from sklearn.model_selection import train_test_split\n",
    "X_train, X_test, Y_train, Y_test = train_test_split(X_pad, Y, test_size = 0.25, random_state = 0)"
   ]
  },
  {
   "cell_type": "markdown",
   "metadata": {},
   "source": [
    "'batch_size' determines the number of samples used to validate during the training.\n",
    "\n",
    "The test data sets are not used at all during training."
   ]
  },
  {
   "cell_type": "code",
   "execution_count": 33,
   "metadata": {},
   "outputs": [],
   "source": [
    "batch_size = 300\n",
    "X_train1 = X_train[batch_size:]\n",
    "Y_train1 = Y_train[batch_size:]\n",
    "\n",
    "X_valid = X_train[:batch_size]\n",
    "Y_valid = Y_train[:batch_size]"
   ]
  },
  {
   "cell_type": "markdown",
   "metadata": {},
   "source": [
    "##### Building the Model\n",
    "\n",
    "'Sequential' specifies that the output from one layer shall be fed to the next layer and so on - used for a plain stack of layers (or tensors)\n",
    "\n",
    "'model.add' is used to add a layer to our neural network. We need to specify the type of layer. \n",
    "\n",
    "'Dense' implies full connection between layers. \n",
    "\n",
    "'Dropout' layer randomly sets input units to 0 with a frequency of 'r' at each step during training time, which helps prevent overfitting. Inputs NOT set to 0 are scaled up by 1/(1-r) such that the sum over all inputs is unchanged.\n",
    "\n",
    "'LSTM: Long Short-Term Memory' has feedback connections. It can process entire sequences of data. LSTM unit is composed of a cell, an input gate, an output gate and a forget gate. The cell remembers values over arbitrary time intervals and the three gates regulate the flow of information into and out of the cell.\n",
    "\n",
    "'Embedding' layer is used mainly for text processing. Word embeddings are a type of word representation that allows words with similar meaning (in this case, sentiment) to have a similar representation."
   ]
  },
  {
   "cell_type": "code",
   "execution_count": 44,
   "metadata": {},
   "outputs": [
    {
     "name": "stdout",
     "output_type": "stream",
     "text": [
      "Train on 8724 samples, validate on 300 samples\n",
      "Epoch 1/4\n",
      "8724/8724 [==============================] - 24s 3ms/step - loss: 0.6839 - acc: 0.5606 - val_loss: 0.6180 - val_acc: 0.6467\n",
      "Epoch 2/4\n",
      "8724/8724 [==============================] - 20s 2ms/step - loss: 0.4515 - acc: 0.7960 - val_loss: 0.3591 - val_acc: 0.8200\n",
      "Epoch 3/4\n",
      "8724/8724 [==============================] - 20s 2ms/step - loss: 0.2505 - acc: 0.9065 - val_loss: 0.3129 - val_acc: 0.8600\n",
      "Epoch 4/4\n",
      "8724/8724 [==============================] - 20s 2ms/step - loss: 0.1692 - acc: 0.9420 - val_loss: 0.3087 - val_acc: 0.8933\n"
     ]
    },
    {
     "data": {
      "text/plain": [
       "<keras.callbacks.History at 0x251f6a77e80>"
      ]
     },
     "execution_count": 44,
     "metadata": {},
     "output_type": "execute_result"
    }
   ],
   "source": [
    "from keras.models import Sequential\n",
    "from keras.layers import Embedding, LSTM, Dense, Dropout\n",
    "vocabulary_size = len(tk.word_counts.keys())+1\n",
    "embedding_size = 32\n",
    "model = Sequential()\n",
    "model.add(Embedding(vocabulary_size, embedding_size, input_length=chosen_len))\n",
    "model.add(Dropout(0.4))\n",
    "model.add(LSTM(100))   #Long Short Term Memory\n",
    "model.add(Dropout(0.4))\n",
    "model.add(Dense(1, activation='sigmoid'))\n",
    "model.compile(loss='binary_crossentropy', optimizer='adam', metrics=['accuracy'])\n",
    "\n",
    "model.fit(X_train1, Y_train1, validation_data=(X_valid, Y_valid), batch_size=batch_size, epochs=4)"
   ]
  },
  {
   "cell_type": "markdown",
   "metadata": {},
   "source": [
    "##### Training for 4 epochs\n",
    "\n",
    "From repeated experimentaion, I found that 4 epochs gives best results. It does not overfit too (since validation statistic is directly correlated to the training statistic)."
   ]
  },
  {
   "cell_type": "code",
   "execution_count": 51,
   "metadata": {},
   "outputs": [
    {
     "name": "stdout",
     "output_type": "stream",
     "text": [
      "_________________________________________________________________\n",
      "Layer (type)                 Output Shape              Param #   \n",
      "=================================================================\n",
      "embedding_14 (Embedding)     (None, 60, 32)            1250176   \n",
      "_________________________________________________________________\n",
      "dropout_27 (Dropout)         (None, 60, 32)            0         \n",
      "_________________________________________________________________\n",
      "lstm_14 (LSTM)               (None, 100)               53200     \n",
      "_________________________________________________________________\n",
      "dropout_28 (Dropout)         (None, 100)               0         \n",
      "_________________________________________________________________\n",
      "dense_14 (Dense)             (None, 1)                 101       \n",
      "=================================================================\n",
      "Total params: 1,303,477\n",
      "Trainable params: 1,303,477\n",
      "Non-trainable params: 0\n",
      "_________________________________________________________________\n"
     ]
    }
   ],
   "source": [
    "model.summary()"
   ]
  },
  {
   "cell_type": "markdown",
   "metadata": {},
   "source": [
    "##### Evaluating the model\n",
    "\n",
    "The test data that was set aside is now used, to make predictions on the sentiment of the review."
   ]
  },
  {
   "cell_type": "code",
   "execution_count": 46,
   "metadata": {},
   "outputs": [],
   "source": [
    "check_predict=model.predict_classes(X_test, verbose = 0)"
   ]
  },
  {
   "cell_type": "code",
   "execution_count": 47,
   "metadata": {},
   "outputs": [
    {
     "data": {
      "text/html": [
       "<div>\n",
       "<style scoped>\n",
       "    .dataframe tbody tr th:only-of-type {\n",
       "        vertical-align: middle;\n",
       "    }\n",
       "\n",
       "    .dataframe tbody tr th {\n",
       "        vertical-align: top;\n",
       "    }\n",
       "\n",
       "    .dataframe thead th {\n",
       "        text-align: right;\n",
       "    }\n",
       "</style>\n",
       "<table border=\"1\" class=\"dataframe\">\n",
       "  <thead>\n",
       "    <tr style=\"text-align: right;\">\n",
       "      <th></th>\n",
       "      <th>Review</th>\n",
       "      <th>Sentiment</th>\n",
       "      <th>PredictedSentiment</th>\n",
       "    </tr>\n",
       "  </thead>\n",
       "  <tbody>\n",
       "    <tr>\n",
       "      <th>0</th>\n",
       "      <td>[3, 76, 232, 598, 211, 4, 57, 1619, 19, 64, 88...</td>\n",
       "      <td>0</td>\n",
       "      <td>0</td>\n",
       "    </tr>\n",
       "    <tr>\n",
       "      <th>1</th>\n",
       "      <td>[486, 61, 347, 11, 726, 82, 284, 1739, 124, 43...</td>\n",
       "      <td>0</td>\n",
       "      <td>0</td>\n",
       "    </tr>\n",
       "    <tr>\n",
       "      <th>2</th>\n",
       "      <td>[842, 429, 29181, 300, 657, 96, 388, 658, 455,...</td>\n",
       "      <td>0</td>\n",
       "      <td>0</td>\n",
       "    </tr>\n",
       "    <tr>\n",
       "      <th>3</th>\n",
       "      <td>[240, 4, 1531, 4188, 88, 2187, 3776, 1183, 21,...</td>\n",
       "      <td>1</td>\n",
       "      <td>1</td>\n",
       "    </tr>\n",
       "    <tr>\n",
       "      <th>4</th>\n",
       "      <td>[1368, 737, 833, 492, 2, 51, 6, 352, 14, 337, ...</td>\n",
       "      <td>0</td>\n",
       "      <td>0</td>\n",
       "    </tr>\n",
       "  </tbody>\n",
       "</table>\n",
       "</div>"
      ],
      "text/plain": [
       "                                              Review  Sentiment  \\\n",
       "0  [3, 76, 232, 598, 211, 4, 57, 1619, 19, 64, 88...          0   \n",
       "1  [486, 61, 347, 11, 726, 82, 284, 1739, 124, 43...          0   \n",
       "2  [842, 429, 29181, 300, 657, 96, 388, 658, 455,...          0   \n",
       "3  [240, 4, 1531, 4188, 88, 2187, 3776, 1183, 21,...          1   \n",
       "4  [1368, 737, 833, 492, 2, 51, 6, 352, 14, 337, ...          0   \n",
       "\n",
       "   PredictedSentiment  \n",
       "0                   0  \n",
       "1                   0  \n",
       "2                   0  \n",
       "3                   1  \n",
       "4                   0  "
      ]
     },
     "execution_count": 47,
     "metadata": {},
     "output_type": "execute_result"
    }
   ],
   "source": [
    "test_df = pd.DataFrame(list(zip(X_test, Y_test, check_predict)), columns = ['Review','Sentiment','PredictedSentiment'])\n",
    "test_df.PredictedSentiment = [1 if x == [1] else 0 for x in test_df.PredictedSentiment]\n",
    "test_df.head()"
   ]
  },
  {
   "cell_type": "code",
   "execution_count": 48,
   "metadata": {},
   "outputs": [
    {
     "name": "stdout",
     "output_type": "stream",
     "text": [
      "[[1329  190]\n",
      " [ 214 1275]]\n"
     ]
    }
   ],
   "source": [
    "from sklearn.metrics import confusion_matrix\n",
    "cm=confusion_matrix(test_df['Sentiment'],test_df['PredictedSentiment'])\n",
    "print(cm)"
   ]
  },
  {
   "cell_type": "markdown",
   "metadata": {},
   "source": [
    "##### Confusion Matrix\n",
    "\n",
    "It is a great way to visualize prediction results.\n",
    "\n",
    "TP FN\n",
    "\n",
    "FP TN"
   ]
  },
  {
   "cell_type": "code",
   "execution_count": 49,
   "metadata": {},
   "outputs": [
    {
     "data": {
      "text/plain": [
       "[Text(0, 0.5, '1'), Text(0, 1.5, '0')]"
      ]
     },
     "execution_count": 49,
     "metadata": {},
     "output_type": "execute_result"
    },
    {
     "data": {
      "image/png": "[encoded data removed]",
      "text/plain": [
       "<Figure size 432x288 with 2 Axes>"
      ]
     },
     "metadata": {
      "needs_background": "light"
     },
     "output_type": "display_data"
    }
   ],
   "source": [
    "import seaborn as sns\n",
    "import matplotlib.pyplot as plt     \n",
    "\n",
    "ax= plt.subplot()\n",
    "sns.heatmap(cm, annot=True, ax = ax, fmt='d') #annot=True to annotate cells\n",
    "\n",
    "# labels, title and ticks\n",
    "ax.set_xlabel('Predicted labels')\n",
    "ax.set_ylabel('True labels')\n",
    "ax.set_title('Confusion Matrix')\n",
    "ax.xaxis.set_ticklabels([1, 0])\n",
    "ax.yaxis.set_ticklabels([1, 0])"
   ]
  },
  {
   "cell_type": "markdown",
   "metadata": {},
   "source": [
    "##### Prediction Result Metric\n",
    "\n",
    "Accuracy isn't always a good measure of model correctness. A high F1 score implies a reasonably good model"
   ]
  },
  {
   "cell_type": "code",
   "execution_count": 50,
   "metadata": {},
   "outputs": [
    {
     "name": "stdout",
     "output_type": "stream",
     "text": [
      "Accuracy = 86.57%\n",
      "Recall = 87.49%\n",
      "Precision = 86.13%\n",
      "F1 Score = 86.8\n"
     ]
    }
   ],
   "source": [
    "ac=round(100*(cm[0][0]+cm[1][1])/(cm[0][0]+cm[0][1]+cm[1][0]+cm[1][1]),2)\n",
    "re=round(100*(cm[0][0])/(cm[0][0]+cm[0][1]),2)\n",
    "pr=round(100*(cm[0][0])/(cm[0][0]+cm[1][0]),2)\n",
    "print(\"Accuracy = \"+str(ac)+\"%\")\n",
    "print(\"Recall = \"+str(re)+\"%\")\n",
    "print(\"Precision = \"+str(pr)+\"%\")\n",
    "print(\"F1 Score = \"+str(round(2*re*pr/(re+pr),2)))"
   ]
  },
  {
   "cell_type": "markdown",
   "metadata": {},
   "source": [
    "### Pretty Awesome Results!"
   ]
  },
  {
   "cell_type": "code",
   "execution_count": null,
   "metadata": {},
   "outputs": [],
   "source": []
  }
 ],
 "metadata": {
  "kernelspec": {
   "display_name": "Python 3",
   "language": "python",
   "name": "python3"
  },
  "language_info": {
   "codemirror_mode": {
    "name": "ipython",
    "version": 3
   },
   "file_extension": ".py",
   "mimetype": "text/x-python",
   "name": "python",
   "nbconvert_exporter": "python",
   "pygments_lexer": "ipython3",
   "version": "3.7.1"
  }
 },
 "nbformat": 4,
 "nbformat_minor": 2
}
